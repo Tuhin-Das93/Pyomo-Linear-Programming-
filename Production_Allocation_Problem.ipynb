{
 "cells": [
  {
   "cell_type": "markdown",
   "id": "8d96c8b0",
   "metadata": {},
   "source": [
    "### Problem Statement:\n",
    "A firm produces three products. These products are processed on three different machines. The time required to manufacture one unit of each of the three products and the daily capacity of the three machines is given below:\n",
    "\n",
    "|Machine|Product 1(time/unit in min)|Product 2(time/unit in min)|Product 3(time/unit in min)|Machine Capacity (minutes/day)|\n",
    "|--|--|--|--|--|\n",
    "|M1|2|3|2|440|\n",
    "|M2|4|0|3|470|\n",
    "|M3|2|5|0|430|\n",
    "\n",
    "It is required to determine the daily number of units to be manufactured for each product. The profits per unit for product 1,2 and 3 is INR 4, INR 3 and INR 6 respectively. It is assumed that all the amounts produced are consumed in the market. Formulate a mathematical model that will maximize the daily profit."
   ]
  },
  {
   "cell_type": "code",
   "execution_count": 8,
   "id": "c7ab049a",
   "metadata": {},
   "outputs": [],
   "source": [
    "from pyomo.environ import *\n"
   ]
  },
  {
   "cell_type": "code",
   "execution_count": 9,
   "id": "8ac92540",
   "metadata": {},
   "outputs": [],
   "source": [
    "## Creating a model instance\n",
    "model = ConcreteModel()"
   ]
  },
  {
   "cell_type": "code",
   "execution_count": 10,
   "id": "56a71a34",
   "metadata": {},
   "outputs": [],
   "source": [
    "## Declaring the necessary variables\n",
    "model.x1 = Var(domain=NonNegativeReals)\n",
    "model.x2 = Var(domain=NonNegativeReals)\n",
    "model.x3 = Var(domain=NonNegativeReals)"
   ]
  },
  {
   "cell_type": "code",
   "execution_count": 11,
   "id": "689a03ea",
   "metadata": {},
   "outputs": [],
   "source": [
    "## Declaring the objective function\n",
    "model.profit = Objective(expr = 4*model.x1 + 3*model.x2 + 6*model.x3, sense=maximize)\n"
   ]
  },
  {
   "cell_type": "code",
   "execution_count": 12,
   "id": "efebcbb1",
   "metadata": {},
   "outputs": [],
   "source": [
    "## Declaring the constraints\n",
    "model.m1 = Constraint(expr = 2*model.x1 + 3*model.x2 + 2*model.x3 <= 440)\n",
    "model.m2 = Constraint(expr = 4*model.x1 + 0*model.x2 + 3*model.x3 <= 470)\n",
    "model.m3 = Constraint(expr = 2*model.x1 + 5*model.x2 + 0*model.x3 <= 430)"
   ]
  },
  {
   "cell_type": "code",
   "execution_count": 13,
   "id": "464b43fd",
   "metadata": {},
   "outputs": [
    {
     "name": "stdout",
     "output_type": "stream",
     "text": [
      "# ==========================================================\n",
      "# = Solver Results                                         =\n",
      "# ==========================================================\n",
      "# ----------------------------------------------------------\n",
      "#   Problem Information\n",
      "# ----------------------------------------------------------\n",
      "Problem: \n",
      "- Name: unknown\n",
      "  Lower bound: 1066.66666666667\n",
      "  Upper bound: 1066.66666666667\n",
      "  Number of objectives: 1\n",
      "  Number of constraints: 4\n",
      "  Number of variables: 4\n",
      "  Number of nonzeros: 8\n",
      "  Sense: maximize\n",
      "# ----------------------------------------------------------\n",
      "#   Solver Information\n",
      "# ----------------------------------------------------------\n",
      "Solver: \n",
      "- Status: ok\n",
      "  Termination condition: optimal\n",
      "  Statistics: \n",
      "    Branch and bound: \n",
      "      Number of bounded subproblems: 0\n",
      "      Number of created subproblems: 0\n",
      "  Error rc: 0\n",
      "  Time: 0.061614274978637695\n",
      "# ----------------------------------------------------------\n",
      "#   Solution Information\n",
      "# ----------------------------------------------------------\n",
      "Solution: \n",
      "- number of solutions: 0\n",
      "  number of solutions displayed: 0\n",
      "3 Var Declarations\n",
      "    x1 : Size=1, Index=None\n",
      "        Key  : Lower : Value : Upper : Fixed : Stale : Domain\n",
      "        None :     0 :   0.0 :  None : False : False : NonNegativeReals\n",
      "    x2 : Size=1, Index=None\n",
      "        Key  : Lower : Value            : Upper : Fixed : Stale : Domain\n",
      "        None :     0 : 42.2222222222222 :  None : False : False : NonNegativeReals\n",
      "    x3 : Size=1, Index=None\n",
      "        Key  : Lower : Value            : Upper : Fixed : Stale : Domain\n",
      "        None :     0 : 156.666666666667 :  None : False : False : NonNegativeReals\n",
      "\n",
      "1 Objective Declarations\n",
      "    profit : Size=1, Index=None, Active=True\n",
      "        Key  : Active : Sense    : Expression\n",
      "        None :   True : maximize : 4*x1 + 3*x2 + 6*x3\n",
      "\n",
      "3 Constraint Declarations\n",
      "    m1 : Size=1, Index=None, Active=True\n",
      "        Key  : Lower : Body               : Upper : Active\n",
      "        None :  -Inf : 2*x1 + 3*x2 + 2*x3 : 440.0 :   True\n",
      "    m2 : Size=1, Index=None, Active=True\n",
      "        Key  : Lower : Body        : Upper : Active\n",
      "        None :  -Inf : 4*x1 + 3*x3 : 470.0 :   True\n",
      "    m3 : Size=1, Index=None, Active=True\n",
      "        Key  : Lower : Body        : Upper : Active\n",
      "        None :  -Inf : 2*x1 + 5*x2 : 430.0 :   True\n",
      "\n",
      "7 Declarations: x1 x2 x3 profit m1 m2 m3\n"
     ]
    }
   ],
   "source": [
    "## Declaring the results\n",
    "results = SolverFactory('glpk').solve(model)\n",
    "results.write()\n",
    "if results.solver.status == 'ok':\n",
    "    model.pprint()"
   ]
  },
  {
   "cell_type": "code",
   "execution_count": 14,
   "id": "0cd5a75b",
   "metadata": {},
   "outputs": [
    {
     "name": "stdout",
     "output_type": "stream",
     "text": [
      "\n",
      "Profit =  1066.6666666666686\n"
     ]
    }
   ],
   "source": [
    "# display solution - Profit\n",
    "print('\\nProfit = ', model.profit())\n"
   ]
  },
  {
   "cell_type": "code",
   "execution_count": 15,
   "id": "6ebc22d6",
   "metadata": {},
   "outputs": [
    {
     "name": "stdout",
     "output_type": "stream",
     "text": [
      "\n",
      "Decision Variables\n",
      "x1 =  0.0\n",
      "x2 =  42.2222222222222\n",
      "x3 =  156.666666666667\n",
      "\n",
      "Constraints\n",
      "Machine 1 w.r.t three products =  440.00000000000057\n",
      "Machine 2 w.r.t three products =  470.000000000001\n",
      "Machine 3 w.r.t three products =  211.111111111111\n"
     ]
    }
   ],
   "source": [
    "# display other details - Decision Variables & Constraints \n",
    "print('\\nDecision Variables')\n",
    "print('x1 = ', model.x1())\n",
    "print('x2 = ', model.x2())\n",
    "print('x3 = ', model.x3())\n",
    "\n",
    "print('\\nConstraints')\n",
    "print('Machine 1 w.r.t three products = ', model.m1())\n",
    "print('Machine 2 w.r.t three products = ', model.m2())\n",
    "print('Machine 3 w.r.t three products = ', model.m3())"
   ]
  },
  {
   "cell_type": "code",
   "execution_count": null,
   "id": "9f2082f8",
   "metadata": {},
   "outputs": [],
   "source": []
  }
 ],
 "metadata": {
  "kernelspec": {
   "display_name": "Python 3",
   "language": "python",
   "name": "python3"
  },
  "language_info": {
   "codemirror_mode": {
    "name": "ipython",
    "version": 3
   },
   "file_extension": ".py",
   "mimetype": "text/x-python",
   "name": "python",
   "nbconvert_exporter": "python",
   "pygments_lexer": "ipython3",
   "version": "3.8.8"
  }
 },
 "nbformat": 4,
 "nbformat_minor": 5
}
