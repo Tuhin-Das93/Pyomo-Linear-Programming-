{
 "cells": [
  {
   "cell_type": "markdown",
   "id": "265214ad",
   "metadata": {},
   "source": [
    "## Airline Price Optimization Problem"
   ]
  },
  {
   "cell_type": "markdown",
   "id": "9ecc65c3",
   "metadata": {},
   "source": [
    "### Problem Statement: \n",
    "FlyIndia is a fictional airlines company. FlyIndia would have two types of customer segments to cater to the early birds, i.e., the customers who would buy ticket much in advance and hence would be eligible for discount, and the late buyers or the ones who would be buying tickets at a regular prices. The airline company XYZ wants to maximize its revenue for a particular Delhi to Bangalore flight by allocating the regular and discounted seats judiciously. There are 166 seats available in the aircraft. Based on the past observations, regular demand and the discounted demand do not exceed 100 and 150 tickets respectively.\n",
    "\n",
    "<b><i>The prices of the tickets are as follows:</i></b>\n",
    "- Discounted : INR 1190\n",
    "- Regular : INR 3085"
   ]
  },
  {
   "cell_type": "code",
   "execution_count": 1,
   "id": "5d69198b",
   "metadata": {},
   "outputs": [],
   "source": [
    "from pyomo.environ import *"
   ]
  },
  {
   "cell_type": "code",
   "execution_count": 2,
   "id": "5ffb51b2",
   "metadata": {},
   "outputs": [],
   "source": [
    "tkt_type = ['eb', 'reg']\n",
    "\n",
    "## model.tkt_type = Set (initialize('eb', 'reg'))"
   ]
  },
  {
   "cell_type": "code",
   "execution_count": 3,
   "id": "a44e373f",
   "metadata": {},
   "outputs": [],
   "source": [
    "tkt_price = {'eb':1190, 'reg':3085}\n",
    "\n",
    "#model.tkt_price = Param(Set(initialize('eb', 'reg') initialize = tkt_price))\n",
    "\n",
    "tkt_demand ={'eb':100, 'reg':150}\n",
    "\n",
    "#model.tkt_demand = Param(Set(initialize('eb', 'reg'), initialize=tkt_demand))"
   ]
  },
  {
   "cell_type": "code",
   "execution_count": 4,
   "id": "bf7f7b96",
   "metadata": {},
   "outputs": [],
   "source": [
    "model = ConcreteModel()"
   ]
  },
  {
   "cell_type": "code",
   "execution_count": 5,
   "id": "0ab22388",
   "metadata": {},
   "outputs": [],
   "source": [
    "model.tkt_demand = Var(tkt_type, within=PositiveIntegers)"
   ]
  },
  {
   "cell_type": "code",
   "execution_count": 6,
   "id": "b7ea1196",
   "metadata": {},
   "outputs": [],
   "source": [
    "# objective\n",
    "\n",
    "model.value = Objective(expr = sum(model.tkt_demand[i]*tkt_price[i] for i in tkt_type), sense=maximize)"
   ]
  },
  {
   "cell_type": "code",
   "execution_count": 7,
   "id": "3ef69a91",
   "metadata": {},
   "outputs": [],
   "source": [
    "### Constraints\n",
    "\n",
    "### Regular Demand should not exceed 100\n",
    "model.reg_demand = Constraint(expr = model.tkt_demand['reg'] <= 100)\n",
    "\n",
    "### Discounted demand should not exceed 150\n",
    "model.dis_demand = Constraint(expr = model.tkt_demand['eb'] <= 150)\n",
    "\n",
    "### Supply Rule\n",
    "\n",
    "def supply_constraint(model):\n",
    "    return(sum(model.tkt_demand[i] for i in tkt_type) == 166)\n",
    "\n",
    "model.supply = Constraint(rule = supply_constraint)"
   ]
  },
  {
   "cell_type": "code",
   "execution_count": 8,
   "id": "992853db",
   "metadata": {},
   "outputs": [
    {
     "data": {
      "text/plain": [
       "{'Problem': [{'Name': 'unknown', 'Lower bound': 387040.0, 'Upper bound': 387040.0, 'Number of objectives': 1, 'Number of constraints': 4, 'Number of variables': 3, 'Number of nonzeros': 5, 'Sense': 'maximize'}], 'Solver': [{'Status': 'ok', 'Termination condition': 'optimal', 'Statistics': {'Branch and bound': {'Number of bounded subproblems': '1', 'Number of created subproblems': '1'}}, 'Error rc': 0, 'Time': 0.08901023864746094}], 'Solution': [OrderedDict([('number of solutions', 0), ('number of solutions displayed', 0)])]}"
      ]
     },
     "execution_count": 8,
     "metadata": {},
     "output_type": "execute_result"
    }
   ],
   "source": [
    "result = SolverFactory('glpk').solve(model)\n",
    "result"
   ]
  },
  {
   "cell_type": "code",
   "execution_count": 9,
   "id": "d954d372",
   "metadata": {},
   "outputs": [
    {
     "name": "stdout",
     "output_type": "stream",
     "text": [
      "1 Set Declarations\n",
      "    tkt_demand_index : Size=1, Index=None, Ordered=Insertion\n",
      "        Key  : Dimen : Domain : Size : Members\n",
      "        None :     1 :    Any :    2 : {'eb', 'reg'}\n",
      "\n",
      "1 Var Declarations\n",
      "    tkt_demand : Size=2, Index=tkt_demand_index\n",
      "        Key : Lower : Value : Upper : Fixed : Stale : Domain\n",
      "         eb :     1 :  66.0 :  None : False : False : PositiveIntegers\n",
      "        reg :     1 : 100.0 :  None : False : False : PositiveIntegers\n",
      "\n",
      "1 Objective Declarations\n",
      "    value : Size=1, Index=None, Active=True\n",
      "        Key  : Active : Sense    : Expression\n",
      "        None :   True : maximize : 1190*tkt_demand[eb] + 3085*tkt_demand[reg]\n",
      "\n",
      "3 Constraint Declarations\n",
      "    dis_demand : Size=1, Index=None, Active=True\n",
      "        Key  : Lower : Body           : Upper : Active\n",
      "        None :  -Inf : tkt_demand[eb] : 150.0 :   True\n",
      "    reg_demand : Size=1, Index=None, Active=True\n",
      "        Key  : Lower : Body            : Upper : Active\n",
      "        None :  -Inf : tkt_demand[reg] : 100.0 :   True\n",
      "    supply : Size=1, Index=None, Active=True\n",
      "        Key  : Lower : Body                             : Upper : Active\n",
      "        None : 166.0 : tkt_demand[eb] + tkt_demand[reg] : 166.0 :   True\n",
      "\n",
      "6 Declarations: tkt_demand_index tkt_demand value reg_demand dis_demand supply\n"
     ]
    }
   ],
   "source": [
    "model.pprint()"
   ]
  },
  {
   "cell_type": "code",
   "execution_count": 10,
   "id": "0d2ec98e",
   "metadata": {},
   "outputs": [
    {
     "data": {
      "text/plain": [
       "387040.0"
      ]
     },
     "execution_count": 10,
     "metadata": {},
     "output_type": "execute_result"
    }
   ],
   "source": [
    "model.value()"
   ]
  },
  {
   "cell_type": "code",
   "execution_count": null,
   "id": "2f263309",
   "metadata": {},
   "outputs": [],
   "source": []
  }
 ],
 "metadata": {
  "kernelspec": {
   "display_name": "Python 3",
   "language": "python",
   "name": "python3"
  },
  "language_info": {
   "codemirror_mode": {
    "name": "ipython",
    "version": 3
   },
   "file_extension": ".py",
   "mimetype": "text/x-python",
   "name": "python",
   "nbconvert_exporter": "python",
   "pygments_lexer": "ipython3",
   "version": "3.8.8"
  }
 },
 "nbformat": 4,
 "nbformat_minor": 5
}
